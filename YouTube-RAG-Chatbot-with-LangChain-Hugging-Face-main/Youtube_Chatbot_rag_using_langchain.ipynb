{
 "cells": [
  {
   "cell_type": "markdown",
   "metadata": {},
   "source": [
    "## Install libraries"
   ]
  },
  {
   "cell_type": "code",
   "execution_count": 1,
   "metadata": {
    "id": "nG6m3Q9DBHV1"
   },
   "outputs": [
    {
     "name": "stdout",
     "output_type": "stream",
     "text": [
      "Note: you may need to restart the kernel to use updated packages.\n"
     ]
    },
    {
     "name": "stderr",
     "output_type": "stream",
     "text": [
      "WARNING: Ignoring invalid distribution ~oogle-ai-generativelanguage (C:\\Users\\ashis\\AppData\\Local\\Packages\\PythonSoftwareFoundation.Python.3.11_qbz5n2kfra8p0\\LocalCache\\local-packages\\Python311\\site-packages)\n",
      "WARNING: Ignoring invalid distribution ~oogle-ai-generativelanguage (C:\\Users\\ashis\\AppData\\Local\\Packages\\PythonSoftwareFoundation.Python.3.11_qbz5n2kfra8p0\\LocalCache\\local-packages\\Python311\\site-packages)\n",
      "WARNING: Ignoring invalid distribution ~oogle-ai-generativelanguage (C:\\Users\\ashis\\AppData\\Local\\Packages\\PythonSoftwareFoundation.Python.3.11_qbz5n2kfra8p0\\LocalCache\\local-packages\\Python311\\site-packages)\n",
      "WARNING: Ignoring invalid distribution ~oogle-ai-generativelanguage (C:\\Users\\ashis\\AppData\\Local\\Packages\\PythonSoftwareFoundation.Python.3.11_qbz5n2kfra8p0\\LocalCache\\local-packages\\Python311\\site-packages)\n"
     ]
    }
   ],
   "source": [
    "%pip install -q youtube-transcript-api langchain-community langchain-huggingface sentence-transformers \\\n",
    "                faiss-cpu tiktoken python-dotenv"
   ]
  },
  {
   "cell_type": "code",
   "execution_count": 2,
   "metadata": {
    "colab": {
     "base_uri": "https://localhost:8080/"
    },
    "id": "8F7iZIBmB8_T",
    "outputId": "79dacaf9-8646-431e-82b2-4eb168d96a55"
   },
   "outputs": [
    {
     "data": {
      "text/plain": [
       "True"
      ]
     },
     "execution_count": 2,
     "metadata": {},
     "output_type": "execute_result"
    }
   ],
   "source": [
    "from langchain_huggingface import ChatHuggingFace, HuggingFaceEndpoint\n",
    "from dotenv import load_dotenv, find_dotenv\n",
    "from langchain_core.messages import SystemMessage,AIMessage,HumanMessage\n",
    "from youtube_transcript_api import YouTubeTranscriptApi, TranscriptsDisabled\n",
    "from langchain.text_splitter import RecursiveCharacterTextSplitter\n",
    "from langchain_huggingface import HuggingFaceEmbeddings, HuggingFaceEndpoint\n",
    "from langchain_community.vectorstores import FAISS\n",
    "from langchain_core.prompts import PromptTemplate\n",
    "import os\n",
    "import re\n",
    "\n",
    "dotenv_path = find_dotenv(filename=\".env\", raise_error_if_not_found=True)\n",
    "load_dotenv(dotenv_path)\n"
   ]
  },
  {
   "cell_type": "markdown",
   "metadata": {
    "id": "0ZZrs-ijCTYt"
   },
   "source": [
    "## Step 1a - Indexing (Document Ingestion)"
   ]
  },
  {
   "cell_type": "code",
   "execution_count": 3,
   "metadata": {
    "colab": {
     "base_uri": "https://localhost:8080/",
     "height": 216
    },
    "id": "1p9AXZycFIH6",
    "outputId": "866503af-45c2-4788-9815-a5204a117109"
   },
   "outputs": [
    {
     "name": "stdout",
     "output_type": "stream",
     "text": [
      "Transcript fetched successfully!\n",
      "the following is a conversation with demus hasabis ceo and co-founder of deepmind a company that has published and builds some of the most incredible artificial intelligence systems in the history of computing including alfred zero that learned all by itself to play the game of gold better than any human in the world and alpha fold two that solved protein folding both tasks considered nearly impossible for a very long time demus is widely considered to be one of the most brilliant and impactful humans in the history of artificial intelligence and science and engineering in general this was truly an honor and a pleasure for me to finally sit down with him for this conversation and i'm sure we will talk many times again in the future this is the lex friedman podcast to support it please check out our sponsors in the description and now dear friends here's demis hassabis let's start with a bit of a personal question am i an ai program you wrote to interview people until i get good enough ...\n"
     ]
    }
   ],
   "source": [
    "from youtube_transcript_api import YouTubeTranscriptApi, TranscriptsDisabled\n",
    "\n",
    "api = YouTubeTranscriptApi()\n",
    "\n",
    "video_id = \"Gfr50f6ZBvo\"\n",
    "\n",
    "try:\n",
    "    transcript_list = api.fetch(video_id)\n",
    "    \n",
    "    transcript = \" \".join([d.text for d in transcript_list])\n",
    "    \n",
    "    print(\"Transcript fetched successfully!\")\n",
    "    print(transcript[:1000] + \"...\") \n",
    "\n",
    "except TranscriptsDisabled:\n",
    "    print(f\"Transcripts are disabled for video: {video_id}\")\n",
    "except Exception as e:\n",
    "    print(f\"An error occurred: {e}\")"
   ]
  },
  {
   "cell_type": "markdown",
   "metadata": {
    "id": "eKkcYsaOCrRX"
   },
   "source": [
    "## Step 1b - Indexing (Text Splitting)"
   ]
  },
  {
   "cell_type": "code",
   "execution_count": 4,
   "metadata": {
    "id": "24i-ZSVXFbnC"
   },
   "outputs": [],
   "source": [
    "splitter = RecursiveCharacterTextSplitter(chunk_size=1000, chunk_overlap=200)\n",
    "chunks = splitter.create_documents([transcript])"
   ]
  },
  {
   "cell_type": "code",
   "execution_count": 5,
   "metadata": {
    "colab": {
     "base_uri": "https://localhost:8080/"
    },
    "id": "4Dm9sfpQFnF1",
    "outputId": "7b9bea3d-b5a4-47f1-f793-16b6bfdd6a7b"
   },
   "outputs": [
    {
     "data": {
      "text/plain": [
       "168"
      ]
     },
     "execution_count": 5,
     "metadata": {},
     "output_type": "execute_result"
    }
   ],
   "source": [
    "len(chunks)"
   ]
  },
  {
   "cell_type": "code",
   "execution_count": 6,
   "metadata": {
    "colab": {
     "base_uri": "https://localhost:8080/"
    },
    "id": "mYlrcBrkFO-N",
    "outputId": "b6e33df4-c8a2-4c2d-f929-4af59774bd94"
   },
   "outputs": [
    {
     "data": {
      "text/plain": [
       "Document(metadata={}, page_content=\"and and kind of come up with descriptions of the electron clouds where they're gonna go how they're gonna interact when you put two elements together uh and what we try to do is learn a simulation uh uh learner functional that will describe more chemistry types of chemistry so um until now you know you can run expensive simulations but then you can only simulate very small uh molecules very simple molecules we would like to simulate large materials um and so uh today there's no way of doing that and we're building up towards uh building functionals that approximate schrodinger's equation and then allow you to describe uh what the electrons are doing and all materials sort of science and material properties are governed by the electrons and and how they interact so have a good summarization of the simulation through the functional um but one that is still close to what the actual simulation would come out with so what um how difficult is that to ask what's involved in that task is it\")"
      ]
     },
     "execution_count": 6,
     "metadata": {},
     "output_type": "execute_result"
    }
   ],
   "source": [
    "chunks[100]"
   ]
  },
  {
   "cell_type": "markdown",
   "metadata": {
    "id": "8xYFK7WXC2Ka"
   },
   "source": [
    "## Step 1c & 1d - Indexing (Embedding Generation and Storing in Vector Store)"
   ]
  },
  {
   "cell_type": "code",
   "execution_count": 7,
   "metadata": {
    "id": "jYXeS5T7FrC4"
   },
   "outputs": [
    {
     "name": "stderr",
     "output_type": "stream",
     "text": [
      "C:\\Users\\ashis\\AppData\\Local\\Packages\\PythonSoftwareFoundation.Python.3.11_qbz5n2kfra8p0\\LocalCache\\local-packages\\Python311\\site-packages\\huggingface_hub\\file_download.py:143: UserWarning: `huggingface_hub` cache-system uses symlinks by default to efficiently store duplicated files but your machine does not support them in C:\\Users\\ashis\\.cache\\huggingface\\hub\\models--sentence-transformers--all-MiniLM-L6-v2. Caching files will still work but in a degraded version that might require more space on your disk. This warning can be disabled by setting the `HF_HUB_DISABLE_SYMLINKS_WARNING` environment variable. For more details, see https://huggingface.co/docs/huggingface_hub/how-to-cache#limitations.\n",
      "To support symlinks on Windows, you either need to activate Developer Mode or to run Python as an administrator. In order to activate developer mode, see this article: https://docs.microsoft.com/en-us/windows/apps/get-started/enable-your-device-for-development\n",
      "  warnings.warn(message)\n",
      "Xet Storage is enabled for this repo, but the 'hf_xet' package is not installed. Falling back to regular HTTP download. For better performance, install the package with: `pip install huggingface_hub[hf_xet]` or `pip install hf_xet`\n"
     ]
    }
   ],
   "source": [
    "embeddings = HuggingFaceEmbeddings(model_name=\"sentence-transformers/all-MiniLM-L6-v2\")\n",
    "vector_store = FAISS.from_documents(chunks, embeddings)"
   ]
  },
  {
   "cell_type": "code",
   "execution_count": 8,
   "metadata": {
    "colab": {
     "base_uri": "https://localhost:8080/"
    },
    "id": "PWYkp-NmFSVF",
    "outputId": "36f75b4d-b798-4e06-aeea-5c56c91befe0"
   },
   "outputs": [
    {
     "data": {
      "text/plain": [
       "{0: '5759fca0-3710-44d8-891f-8d8fc8281dde',\n",
       " 1: 'c5ae5005-7075-4025-9dd4-8b70c9107440',\n",
       " 2: '66da62b9-3c3c-46a7-8f81-04adb03340b4',\n",
       " 3: 'a83978e1-bee1-45a6-b329-df6bf475dbe7',\n",
       " 4: 'db142d6f-2d2d-4e6c-be7d-52901502346a',\n",
       " 5: '845b4399-bbd6-48f2-8014-c1747fe6358c',\n",
       " 6: 'd21cc0bc-e23d-4e9f-acb6-0eaf4c9c01f4',\n",
       " 7: '768909f6-63bc-4496-9955-c47fd02a3872',\n",
       " 8: '30ad7c5f-6116-4b75-b20e-52d8989dbacf',\n",
       " 9: '3467a71b-ae63-4d60-a6d4-55204acbc98b',\n",
       " 10: 'c99220de-fd4d-4594-8d39-f150044d00fc',\n",
       " 11: 'dc2e147d-8873-421f-90aa-f6bf4df5e011',\n",
       " 12: '1f4e4b23-be96-41e0-8dba-273cd90f49de',\n",
       " 13: '26e21b4c-c410-4de3-b9de-ce7fc8324aaa',\n",
       " 14: '755de3fb-ed3a-47f0-936d-eb4cccc51b29',\n",
       " 15: '10b44f06-e892-46ad-ab87-72f8bcc709a7',\n",
       " 16: '2fef997f-f2e9-40e4-ba40-5c39695a2d70',\n",
       " 17: 'd6b005cb-79fb-4e9e-9d47-9fa402931426',\n",
       " 18: 'cc5665c2-3825-42d0-b7c4-92a0b2a4419e',\n",
       " 19: '08090c49-e90f-40ec-a138-e2b03d21d4d4',\n",
       " 20: 'dcfbf85a-bf94-44e7-85ea-e5a40b941a7c',\n",
       " 21: '02081525-a2a3-4a7d-a565-80e883f4bd0e',\n",
       " 22: '734acb79-a2cd-4eef-8b9f-a10625dcfc02',\n",
       " 23: '7f3ba4c6-fd42-4cca-81db-912b76367682',\n",
       " 24: '339f1e41-86d2-4638-be63-0bb1ada4bab9',\n",
       " 25: '76bd0f01-20e4-4c9b-93a3-f3f3199a24d0',\n",
       " 26: 'e84214b0-39dc-4ac1-b960-527a0683fbf6',\n",
       " 27: '63eaf45a-ee25-429b-8edc-769a655e149e',\n",
       " 28: '0a0ae678-4743-4e8f-a6bd-493af4826566',\n",
       " 29: 'f64f495c-e174-4688-a21a-b687b735576b',\n",
       " 30: '7504942a-424d-4cf1-b7c9-bd453e85d4aa',\n",
       " 31: '95f2083c-bca7-4881-8d33-5b2242e68539',\n",
       " 32: 'f9885374-aba3-4e8c-8e08-2bdc3e517c12',\n",
       " 33: 'c771040f-4a9a-4e08-8435-4a7f2f1eb68b',\n",
       " 34: 'f71028b7-8cef-4759-b69f-e8b3d4c21a27',\n",
       " 35: '456135a2-99ef-42b4-98c0-9ed0d2e9551b',\n",
       " 36: '03c21eea-e07c-4457-91af-347a7a8f6c04',\n",
       " 37: '0c8dcebb-2a75-4a24-ad6b-b9451180a19e',\n",
       " 38: '5cb8d88b-6862-4b48-a5cb-18bd73b5ff91',\n",
       " 39: '4cd5c6a7-7a97-4812-bf83-8cbaf24eb432',\n",
       " 40: '232be3c1-5dd5-4cde-a5cc-9a017e743d63',\n",
       " 41: '154600ac-4e9e-45d7-9595-7ae7f945247a',\n",
       " 42: '95c6263f-e2ad-4075-9947-f7b56bcecdc5',\n",
       " 43: '6b9bae9f-326e-41c6-9b5f-966ba0b3bfe4',\n",
       " 44: '205d557e-e95b-40c3-a82d-040e375f4ade',\n",
       " 45: '20cf1c4d-42de-4cb1-9147-b8696d81b376',\n",
       " 46: 'c2d6849e-8e32-4cdc-b587-33f4dd484d55',\n",
       " 47: '5a6053fc-dcad-4a86-8ecf-21165dbcd3a5',\n",
       " 48: 'bffea581-78c3-4f19-ae73-bb0998d05cfb',\n",
       " 49: '894d0da0-95f3-40a0-9a4d-42f508dc0052',\n",
       " 50: '6fe269d5-fe73-4ab2-8785-7549973ac285',\n",
       " 51: 'a1cffdb0-3d32-404f-9f43-4eb670186024',\n",
       " 52: 'a9275ab1-d7b0-4f12-a5a2-018f413b0c22',\n",
       " 53: '6e47a175-4f0f-4e83-9f8c-70a1c66b12df',\n",
       " 54: '641d2622-52f3-47f8-b5d1-e191aeaba589',\n",
       " 55: '46ea17fa-056e-4141-b236-3ce074dd9ef1',\n",
       " 56: '045e93fe-cf91-4aa1-b17f-352abc76a431',\n",
       " 57: '897a2fe5-5904-4d6d-bbdd-3b818333c323',\n",
       " 58: '8b1cc12b-90db-4c7e-95b0-9e6efa8ec3c1',\n",
       " 59: '10193686-d216-409c-91d2-8b7455af61c1',\n",
       " 60: '4fff44c8-441e-4634-98ec-575527cdac33',\n",
       " 61: '44935cce-cbfc-42f7-be67-114d706fa589',\n",
       " 62: 'd7e915a2-d10a-4367-9b36-3ce41593d85d',\n",
       " 63: '6b161b29-3118-4548-a2cb-8f87c29d698f',\n",
       " 64: '38ea7e87-0149-478b-bfff-3837966bd848',\n",
       " 65: '4ca5c96d-ed26-413e-ace8-5e9c4a333d96',\n",
       " 66: '4e39d1fb-62fe-412c-83ae-7a1dc30c1501',\n",
       " 67: '8b2d562d-9049-4679-bd2b-723e4730d216',\n",
       " 68: 'd0d3b194-8e59-4349-a97c-ca7ae05738cc',\n",
       " 69: 'f993a32f-d87d-4705-b8f5-697449342774',\n",
       " 70: '8bcbfd71-f1bb-4dc3-8525-54b346d64af7',\n",
       " 71: 'c7ed0959-d2f8-456d-8978-05437bda5684',\n",
       " 72: '5437176d-8336-4c05-91f8-9b2a3be3c9f5',\n",
       " 73: 'ca29155c-e613-4c47-8878-27e4a0c0416f',\n",
       " 74: 'b99baff8-3f9d-4ef6-a59d-36fa225f77e7',\n",
       " 75: '015868bf-b37d-46bd-afa0-ad83a079f33c',\n",
       " 76: '7600679a-c8ed-4555-9c6c-4ff5776f9657',\n",
       " 77: 'bacecf94-a1df-4f89-b5b5-aab3bada51ba',\n",
       " 78: '9f7de922-7a39-42ac-8b6e-469cae57b094',\n",
       " 79: '61b702e7-9204-4575-91d0-005c0fc4989f',\n",
       " 80: '2fcbce30-d552-4712-b697-133d718e2dd0',\n",
       " 81: '5efe2d1d-acc4-424a-8aaf-7bc15d506b21',\n",
       " 82: 'a3c4cdda-e931-42b3-a73b-11c40f1f475d',\n",
       " 83: '6b9a4ad2-776a-41ac-a008-70c424723d24',\n",
       " 84: '88df60bd-40d6-4394-8732-7fe0593ee86e',\n",
       " 85: '293b2e6b-706d-4ea6-b4f2-b51b71bae353',\n",
       " 86: '315348c0-22fc-43aa-8c67-a590ab83fc2a',\n",
       " 87: '1e646f3c-0d98-4901-8910-1b77300fbb40',\n",
       " 88: 'b5bbbdba-27ef-40e7-8cd9-06a7543cd5dc',\n",
       " 89: '09da1760-aee0-4897-a523-855ab7a3ef0b',\n",
       " 90: '0c08d061-095a-41e8-898b-5c4bb497f37e',\n",
       " 91: 'a236fd40-b429-4261-b54a-782ed837b412',\n",
       " 92: '4033d856-065c-4770-8fb8-83cf874f43e6',\n",
       " 93: '9379c3b4-2c12-46d0-b183-46bc4976866d',\n",
       " 94: '109b3f5a-309b-42f0-b74e-bfec026412dd',\n",
       " 95: '8f2fa096-a346-4619-8de2-6604fd15c44f',\n",
       " 96: 'af007024-a0a3-4440-bc8b-f6320d6039e6',\n",
       " 97: 'bbc95216-11b0-4ea7-b586-2697d5f2d63e',\n",
       " 98: '3aee572a-5ccd-4424-ac4b-8705900709cb',\n",
       " 99: '23d0164b-818b-462e-b796-1c1c4e100317',\n",
       " 100: '143f12b0-b40a-44cf-8517-4d4bb284959c',\n",
       " 101: 'ebfbf4b2-a7d5-4fb0-b397-0bf37fea8d8d',\n",
       " 102: 'c58e7605-1ce3-4e49-9a6e-023e75f4daa7',\n",
       " 103: '5c267f0f-003a-4691-9f4c-99c3d2fc5a08',\n",
       " 104: 'f9f8bd5b-581f-43c8-b5d4-404d253dab4a',\n",
       " 105: '4f314877-648d-455f-93c7-b17eae994418',\n",
       " 106: 'a2c6c3cb-7860-46d9-af19-dd1bc08f0d5c',\n",
       " 107: '7335d2c6-813b-4704-8e10-42f86926cd36',\n",
       " 108: '3808968b-e731-457b-bc7d-807f5a4cf9e2',\n",
       " 109: '53498a02-899d-4ba6-b0ec-75fde9ebc3c7',\n",
       " 110: '52e4a583-c8c1-4bb7-a3aa-0a02a490b4b3',\n",
       " 111: '50781cbf-8782-4a94-891b-cc100b2bf017',\n",
       " 112: '8e6781f1-ad5f-488b-940f-d1f2bc6aa420',\n",
       " 113: '3b963b7f-c70f-40a6-b502-6b83dafc1ac6',\n",
       " 114: '59ae7ab4-0bcd-47f7-93df-01fb76b57d5e',\n",
       " 115: 'eea1582f-1c3a-449c-a706-cf6e1d4fa57c',\n",
       " 116: 'af68675d-813a-491c-8301-a08a72d6c1a0',\n",
       " 117: '031b7bbd-e5d1-4120-b5b1-5f4be0641d08',\n",
       " 118: '0de2f052-ab32-4d41-abec-0acd3b18c931',\n",
       " 119: '96d4d890-d8ae-483a-9952-8b2ad3b71583',\n",
       " 120: '0d012208-d7a8-4b1c-bb21-aa7c0f92aa9a',\n",
       " 121: '8079b85b-549b-4c8b-9a71-c1569df2e70d',\n",
       " 122: '0788b3eb-7fc4-4ea3-a322-b1d9d9008140',\n",
       " 123: '4362c446-3420-474f-92df-de14ef3b032a',\n",
       " 124: 'eb6937f1-a944-4c62-9a6c-02445925288b',\n",
       " 125: '444a6cf6-4c68-4a8f-bb52-4fe06bf9332c',\n",
       " 126: '05ac1101-59f5-40e7-8938-ac8e8ec2202d',\n",
       " 127: '360575ed-fb88-4d1e-8625-aa412ca9d630',\n",
       " 128: 'a4bf9103-4896-4473-b771-f42b0bebe73a',\n",
       " 129: '9f62e50e-0f6c-410a-ba6d-64b36f8c87cc',\n",
       " 130: 'a439eaff-4e66-481a-be13-bb4470b17388',\n",
       " 131: 'eb998640-a477-4bdf-a1b1-c910e55d6564',\n",
       " 132: 'f53992ff-b531-4505-8cc1-1f80492b24ce',\n",
       " 133: '0b11eb11-e7e6-4f75-a796-b8472387ebc5',\n",
       " 134: '93aa3644-2568-441b-9481-5c8d6b6b13d8',\n",
       " 135: '0492507b-6b22-4863-8308-e6aff9fc937f',\n",
       " 136: 'ff1a11e3-7a97-471b-8f0b-32a04ab0549e',\n",
       " 137: '1fea029a-f596-479a-91e8-7be0c00a7b5e',\n",
       " 138: 'e6fcabd6-1b94-4f65-956e-c553a05038a0',\n",
       " 139: 'dd6abf5e-5a96-41a8-824c-723a813c5b0b',\n",
       " 140: '7a7168f1-b3a2-4c8c-8560-9eee99c7182b',\n",
       " 141: '925a4490-44fc-4ea9-aa46-d6f4e5462336',\n",
       " 142: '7a0908a4-bafd-4427-9db1-1625a1a61757',\n",
       " 143: '9167e667-58f6-45c3-a37e-ef576e16cb90',\n",
       " 144: '4326c35c-b24c-44ef-9cfa-eb2adbb97e1f',\n",
       " 145: 'cf106a84-cc01-451d-9c26-43049f127172',\n",
       " 146: '8952faaf-0bef-4270-b6a0-2ac2d7109207',\n",
       " 147: 'ff70cb1c-224a-4ea5-9dba-d2e676835c88',\n",
       " 148: 'c0783593-a3ac-48ad-bda5-a4c72b50d51c',\n",
       " 149: '9d0d1af7-cc89-45dc-b9f5-f9ece2ef101e',\n",
       " 150: '1e81dc6d-9af1-4fb1-8486-cbe82009ed2c',\n",
       " 151: '957a2daf-b5a7-4c86-9773-9a9a48c153b7',\n",
       " 152: '1e322cdd-3dff-4e7e-a5a9-7d6fdd3f4dbd',\n",
       " 153: 'a1368f09-8fa9-45fa-81c7-712b2f40680d',\n",
       " 154: 'bf387668-dcf5-4a4e-85ef-3783fcfbdbcb',\n",
       " 155: '82003e39-fad3-40da-956a-4e52c9553786',\n",
       " 156: '91b73176-d0f5-494c-a32e-fb8fe4203c3a',\n",
       " 157: 'c7840f3c-a331-4a93-bb9e-2144b8062ba9',\n",
       " 158: '01832112-3ae2-4cd6-a716-463ba4c21fa9',\n",
       " 159: '8a5f0c4a-3a19-4af6-a4c1-15b39ca6b54c',\n",
       " 160: '1a5a038d-78e8-4d0e-b7ea-98e654fd0eba',\n",
       " 161: '1f2a9fe6-e566-4074-86d7-214cf03f9ef5',\n",
       " 162: '15f7f29d-1877-4a70-aa2d-67ff2b640e67',\n",
       " 163: 'e2c0eeb2-d25e-449b-a4f4-acbb5e78c786',\n",
       " 164: 'd3cb3665-21e4-4201-8aae-02d3f3069ff0',\n",
       " 165: 'a834e879-0d35-419c-94ce-cd2e5ef3140a',\n",
       " 166: '525e4709-c943-4d7b-b4bc-f02d572fc240',\n",
       " 167: '985f3eab-13e3-4811-aa93-254dcf96e69a'}"
      ]
     },
     "execution_count": 8,
     "metadata": {},
     "output_type": "execute_result"
    }
   ],
   "source": [
    "vector_store.index_to_docstore_id"
   ]
  },
  {
   "cell_type": "code",
   "execution_count": 9,
   "metadata": {
    "colab": {
     "base_uri": "https://localhost:8080/"
    },
    "id": "MxokTcWEGGAo",
    "outputId": "e05f7a2a-4cb1-4fb0-ba48-e6887877a260"
   },
   "outputs": [
    {
     "data": {
      "text/plain": [
       "[]"
      ]
     },
     "execution_count": 9,
     "metadata": {},
     "output_type": "execute_result"
    }
   ],
   "source": [
    "vector_store.get_by_ids(['3b87214f-6e03-4d8b-aa95-eee12141f725'])"
   ]
  },
  {
   "cell_type": "markdown",
   "metadata": {
    "id": "Zez1650EDN9J"
   },
   "source": [
    "## Step 2 - Retrieval"
   ]
  },
  {
   "cell_type": "code",
   "execution_count": 10,
   "metadata": {
    "id": "KEuoGUYOF3oG"
   },
   "outputs": [],
   "source": [
    "retriever = vector_store.as_retriever(search_type=\"similarity\", search_kwargs={\"k\": 4})"
   ]
  },
  {
   "cell_type": "code",
   "execution_count": 11,
   "metadata": {
    "colab": {
     "base_uri": "https://localhost:8080/"
    },
    "id": "Qcose8VuGFAv",
    "outputId": "f8e5472c-4073-4e44-af3a-f4ffcd023dc5"
   },
   "outputs": [
    {
     "data": {
      "text/plain": [
       "VectorStoreRetriever(tags=['FAISS', 'HuggingFaceEmbeddings'], vectorstore=<langchain_community.vectorstores.faiss.FAISS object at 0x0000018805967310>, search_kwargs={'k': 4})"
      ]
     },
     "execution_count": 11,
     "metadata": {},
     "output_type": "execute_result"
    }
   ],
   "source": [
    "retriever"
   ]
  },
  {
   "cell_type": "code",
   "execution_count": 12,
   "metadata": {
    "colab": {
     "base_uri": "https://localhost:8080/"
    },
    "id": "Wvrsq08TGGNk",
    "outputId": "55ed9475-4497-4e53-d380-5c4c10bf68cb"
   },
   "outputs": [
    {
     "data": {
      "text/plain": [
       "[Document(id='38ea7e87-0149-478b-bfff-3837966bd848', metadata={}, page_content=\"and how it works this is tough to uh ask you this question because you probably will say it's everything but let's let's try let's try to think to this because you're in a very interesting position where deepmind is the place of some of the most uh brilliant ideas in the history of ai but it's also a place of brilliant engineering so how much of solving intelligence this big goal for deepmind how much of it is science how much is engineering so how much is the algorithms how much is the data how much is the hardware compute infrastructure how much is it the software computer infrastructure yeah um what else is there how much is the human infrastructure and like just the humans interact in certain kinds of ways in all the space of all those ideas how much does maybe like philosophy how much what's the key if um uh if if you were to sort of look back like if we go forward 200 years look back what was the key thing that solved intelligence is that ideas i think it's a combination first\"),\n",
       " Document(id='5759fca0-3710-44d8-891f-8d8fc8281dde', metadata={}, page_content=\"the following is a conversation with demus hasabis ceo and co-founder of deepmind a company that has published and builds some of the most incredible artificial intelligence systems in the history of computing including alfred zero that learned all by itself to play the game of gold better than any human in the world and alpha fold two that solved protein folding both tasks considered nearly impossible for a very long time demus is widely considered to be one of the most brilliant and impactful humans in the history of artificial intelligence and science and engineering in general this was truly an honor and a pleasure for me to finally sit down with him for this conversation and i'm sure we will talk many times again in the future this is the lex friedman podcast to support it please check out our sponsors in the description and now dear friends here's demis hassabis let's start with a bit of a personal question am i an ai program you wrote to interview people until i get good enough\"),\n",
       " Document(id='ca29155c-e613-4c47-8878-27e4a0c0416f', metadata={}, page_content=\"ambitious as trying to solve intelligence and you're you're you know it's blue sky research no one knows how to do it you you you need to use any evidence or any source of information you can to help guide you in the right direction or give you confidence you're going in the right direction so so that that was one reason we pushed so hard on that and that's and just going back to your early question about organization the other big thing that i think we innovated with at deepmind to encourage invention and and uh and innovation was the multi-disciplinary organization we built and we still have today so deepmind originally was a confluence of the of the most cutting-edge knowledge in neuroscience with machine learning engineering and mathematics right and and gaming and then since then we built that out even further so we have philosophers here and and uh by you know ethicists but also other types of scientists physicists and so on um and that's what brings together i tried to build a\"),\n",
       " Document(id='02081525-a2a3-4a7d-a565-80e883f4bd0e', metadata={}, page_content=\"used of ai is in deep mind from the beginning which is using games as a testing ground for proving out ai algorithms and developing ai algorithms and that was a that was a sort of um a core component of our vision at the start of deepmind was that we would use games very heavily uh as our main testing ground certainly to begin with um because it's super efficient to use games and also you know it's very easy to have metrics to see how well your systems are improving and what direction your ideas are going in and whether you're making incremental improvements and because those games are often rooted in something that humans did for a long time beforehand there's already a strong set of rules like it's already a damn good benchmark yes it's really good for so many reasons because you've got you've got you've got clear measures of how good humans can be at these things and in some cases like go we've been playing it for thousands of years um and and uh often they have scores or at least\")]"
      ]
     },
     "execution_count": 12,
     "metadata": {},
     "output_type": "execute_result"
    }
   ],
   "source": [
    "retriever.invoke('What is deepmind')"
   ]
  },
  {
   "cell_type": "markdown",
   "metadata": {
    "id": "F8y0wRmoDSVZ"
   },
   "source": [
    "## Step 3 - Augmentation"
   ]
  },
  {
   "cell_type": "code",
   "execution_count": 13,
   "metadata": {
    "id": "x2P2AlJ0GN5L"
   },
   "outputs": [],
   "source": [
    "endpoint = HuggingFaceEndpoint(\n",
    "    repo_id=\"mistralai/Mixtral-8x7B-Instruct-v0.1\",\n",
    "    temperature=0.7,\n",
    "    max_new_tokens=512\n",
    ")\n",
    "\n",
    "llm = ChatHuggingFace(llm=endpoint)"
   ]
  },
  {
   "cell_type": "code",
   "execution_count": 14,
   "metadata": {
    "id": "2-NeLx9wFHzw"
   },
   "outputs": [],
   "source": [
    "prompt = PromptTemplate(\n",
    "    template=\"\"\"\n",
    "      You are a helpful assistant.\n",
    "      Answer ONLY from the provided transcript context.\n",
    "      If the context is insufficient, just say you don't know.\n",
    "\n",
    "      {context}\n",
    "      Question: {question}\n",
    "    \"\"\",\n",
    "    input_variables = ['context', 'question']\n",
    ")"
   ]
  },
  {
   "cell_type": "code",
   "execution_count": 15,
   "metadata": {
    "id": "WI9BOZQwGizf"
   },
   "outputs": [],
   "source": [
    "question          = \"is the topic of nuclear fusion discussed in this video? if yes then what was discussed\"\n",
    "retrieved_docs    = retriever.invoke(question)"
   ]
  },
  {
   "cell_type": "code",
   "execution_count": 16,
   "metadata": {
    "colab": {
     "base_uri": "https://localhost:8080/"
    },
    "id": "hfv8yNFsK_GN",
    "outputId": "79fa2a7e-8d92-45bf-99e4-ad12cd86c7a1"
   },
   "outputs": [
    {
     "data": {
      "text/plain": [
       "[Document(id='8f2fa096-a346-4619-8de2-6604fd15c44f', metadata={}, page_content=\"in this case in fusion we we collaborated with epfl in switzerland the swiss technical institute who are amazing they have a test reactor that they were willing to let us use which you know i double checked with the team we were going to use carefully and safely i was impressed they managed to persuade them to let us use it and um and it's a it's an amazing test reactor they have there and they try all sorts of pretty crazy experiments on it and um the the the what we tend to look at is if we go into a new domain like fusion what are all the bottleneck problems uh like thinking from first principles you know what are all the bottleneck problems that are still stopping fusion working today and then we look at we you know we get a fusion expert to tell us and then we look at those bottlenecks and we look at the ones which ones are amenable to our ai methods today yes right and and and then and would be interesting from a research perspective from our point of view from an ai point of\"),\n",
       " Document(id='109b3f5a-309b-42f0-b74e-bfec026412dd', metadata={}, page_content='that i would like to i think could be very transformative if we helped accelerate and uh really interesting problems scientific challenges in of themselves this is energy so energy yes exactly so energy and climate so we talked about disease and biology as being one of the biggest places i think ai can help with i think energy and climate uh is another one so maybe they would be my top two um and fusion is one one area i think ai can help with now fusion has many challenges mostly physics material science and engineering challenges as well to build these massive fusion reactors and contain the plasma and what we try to do whenever we go into a new field to apply our systems is we look for um we talk to domain experts we try and find the best people in the world to collaborate with um in this case in fusion we we collaborated with epfl in switzerland the swiss technical institute who are amazing they have a test reactor that they were willing to let us use which you know i double'),\n",
       " Document(id='3aee572a-5ccd-4424-ac4b-8705900709cb', metadata={}, page_content=\"so we with this problem and we published it in a nature paper last year uh we held the fusion that we held the plasma in specific shapes so actually it's almost like carving the plasma into different shapes and control and hold it there for the record amount of time so um so that's one of the problems of of fusion sort of um solved so i have a controller that's able to no matter the shape uh contain it continue yeah contain it and hold it in structure and there's different shapes that are better for for the energy productions called droplets and and and so on so um so that was huge and now we're looking we're talking to lots of fusion startups to see what's the next problem we can tackle uh in the fusion area so another fascinating place in a paper title pushing the frontiers of density functionals by solving the fractional electron problem so you're taking on modeling and simulating the quantum mechanical behavior of electrons yes um can you explain this work and can ai model and\"),\n",
       " Document(id='9379c3b4-2c12-46d0-b183-46bc4976866d', metadata={}, page_content=\"like room temperature superconductors or something on my list one day i'd like to like you know have an ai system to help build better optimized batteries all of these sort of mechanical things mr i think a systematic sort of search could be uh guided by a model could be um could be extremely powerful so speaking of which you have a paper on nuclear fusion uh magnetic control of tokamak plasmas to deep reinforcement learning so you uh you're seeking to solve nuclear fusion with deep rl so it's doing control of high temperature plasmas can you explain this work and uh can ai eventually solve nuclear fusion it's been very fun last year or two and very productive because we've been taking off a lot of my dream projects if you like of things that i've collected over the years of areas of science that i would like to i think could be very transformative if we helped accelerate and uh really interesting problems scientific challenges in of themselves this is energy so energy yes exactly so\")]"
      ]
     },
     "execution_count": 16,
     "metadata": {},
     "output_type": "execute_result"
    }
   ],
   "source": [
    "retrieved_docs"
   ]
  },
  {
   "cell_type": "code",
   "execution_count": 17,
   "metadata": {
    "colab": {
     "base_uri": "https://localhost:8080/",
     "height": 156
    },
    "id": "bKwpvAo5G_Pk",
    "outputId": "26f0efd0-b35f-44dd-9735-dfc41c1ab86d"
   },
   "outputs": [
    {
     "data": {
      "text/plain": [
       "\"in this case in fusion we we collaborated with epfl in switzerland the swiss technical institute who are amazing they have a test reactor that they were willing to let us use which you know i double checked with the team we were going to use carefully and safely i was impressed they managed to persuade them to let us use it and um and it's a it's an amazing test reactor they have there and they try all sorts of pretty crazy experiments on it and um the the the what we tend to look at is if we go into a new domain like fusion what are all the bottleneck problems uh like thinking from first principles you know what are all the bottleneck problems that are still stopping fusion working today and then we look at we you know we get a fusion expert to tell us and then we look at those bottlenecks and we look at the ones which ones are amenable to our ai methods today yes right and and and then and would be interesting from a research perspective from our point of view from an ai point of\\n\\nthat i would like to i think could be very transformative if we helped accelerate and uh really interesting problems scientific challenges in of themselves this is energy so energy yes exactly so energy and climate so we talked about disease and biology as being one of the biggest places i think ai can help with i think energy and climate uh is another one so maybe they would be my top two um and fusion is one one area i think ai can help with now fusion has many challenges mostly physics material science and engineering challenges as well to build these massive fusion reactors and contain the plasma and what we try to do whenever we go into a new field to apply our systems is we look for um we talk to domain experts we try and find the best people in the world to collaborate with um in this case in fusion we we collaborated with epfl in switzerland the swiss technical institute who are amazing they have a test reactor that they were willing to let us use which you know i double\\n\\nso we with this problem and we published it in a nature paper last year uh we held the fusion that we held the plasma in specific shapes so actually it's almost like carving the plasma into different shapes and control and hold it there for the record amount of time so um so that's one of the problems of of fusion sort of um solved so i have a controller that's able to no matter the shape uh contain it continue yeah contain it and hold it in structure and there's different shapes that are better for for the energy productions called droplets and and and so on so um so that was huge and now we're looking we're talking to lots of fusion startups to see what's the next problem we can tackle uh in the fusion area so another fascinating place in a paper title pushing the frontiers of density functionals by solving the fractional electron problem so you're taking on modeling and simulating the quantum mechanical behavior of electrons yes um can you explain this work and can ai model and\\n\\nlike room temperature superconductors or something on my list one day i'd like to like you know have an ai system to help build better optimized batteries all of these sort of mechanical things mr i think a systematic sort of search could be uh guided by a model could be um could be extremely powerful so speaking of which you have a paper on nuclear fusion uh magnetic control of tokamak plasmas to deep reinforcement learning so you uh you're seeking to solve nuclear fusion with deep rl so it's doing control of high temperature plasmas can you explain this work and uh can ai eventually solve nuclear fusion it's been very fun last year or two and very productive because we've been taking off a lot of my dream projects if you like of things that i've collected over the years of areas of science that i would like to i think could be very transformative if we helped accelerate and uh really interesting problems scientific challenges in of themselves this is energy so energy yes exactly so\""
      ]
     },
     "execution_count": 17,
     "metadata": {},
     "output_type": "execute_result"
    }
   ],
   "source": [
    "context_text = \"\\n\\n\".join(doc.page_content for doc in retrieved_docs)\n",
    "context_text"
   ]
  },
  {
   "cell_type": "code",
   "execution_count": 18,
   "metadata": {
    "id": "_bikWKZWDiqB"
   },
   "outputs": [],
   "source": [
    "final_prompt = prompt.invoke({\"context\": context_text, \"question\": question})"
   ]
  },
  {
   "cell_type": "code",
   "execution_count": 19,
   "metadata": {
    "colab": {
     "base_uri": "https://localhost:8080/"
    },
    "id": "5LOFVVAbLYvU",
    "outputId": "b6c47460-fdf3-4dad-ebe5-611b3dfe854b"
   },
   "outputs": [
    {
     "data": {
      "text/plain": [
       "StringPromptValue(text=\"\\n      You are a helpful assistant.\\n      Answer ONLY from the provided transcript context.\\n      If the context is insufficient, just say you don't know.\\n\\n      in this case in fusion we we collaborated with epfl in switzerland the swiss technical institute who are amazing they have a test reactor that they were willing to let us use which you know i double checked with the team we were going to use carefully and safely i was impressed they managed to persuade them to let us use it and um and it's a it's an amazing test reactor they have there and they try all sorts of pretty crazy experiments on it and um the the the what we tend to look at is if we go into a new domain like fusion what are all the bottleneck problems uh like thinking from first principles you know what are all the bottleneck problems that are still stopping fusion working today and then we look at we you know we get a fusion expert to tell us and then we look at those bottlenecks and we look at the ones which ones are amenable to our ai methods today yes right and and and then and would be interesting from a research perspective from our point of view from an ai point of\\n\\nthat i would like to i think could be very transformative if we helped accelerate and uh really interesting problems scientific challenges in of themselves this is energy so energy yes exactly so energy and climate so we talked about disease and biology as being one of the biggest places i think ai can help with i think energy and climate uh is another one so maybe they would be my top two um and fusion is one one area i think ai can help with now fusion has many challenges mostly physics material science and engineering challenges as well to build these massive fusion reactors and contain the plasma and what we try to do whenever we go into a new field to apply our systems is we look for um we talk to domain experts we try and find the best people in the world to collaborate with um in this case in fusion we we collaborated with epfl in switzerland the swiss technical institute who are amazing they have a test reactor that they were willing to let us use which you know i double\\n\\nso we with this problem and we published it in a nature paper last year uh we held the fusion that we held the plasma in specific shapes so actually it's almost like carving the plasma into different shapes and control and hold it there for the record amount of time so um so that's one of the problems of of fusion sort of um solved so i have a controller that's able to no matter the shape uh contain it continue yeah contain it and hold it in structure and there's different shapes that are better for for the energy productions called droplets and and and so on so um so that was huge and now we're looking we're talking to lots of fusion startups to see what's the next problem we can tackle uh in the fusion area so another fascinating place in a paper title pushing the frontiers of density functionals by solving the fractional electron problem so you're taking on modeling and simulating the quantum mechanical behavior of electrons yes um can you explain this work and can ai model and\\n\\nlike room temperature superconductors or something on my list one day i'd like to like you know have an ai system to help build better optimized batteries all of these sort of mechanical things mr i think a systematic sort of search could be uh guided by a model could be um could be extremely powerful so speaking of which you have a paper on nuclear fusion uh magnetic control of tokamak plasmas to deep reinforcement learning so you uh you're seeking to solve nuclear fusion with deep rl so it's doing control of high temperature plasmas can you explain this work and uh can ai eventually solve nuclear fusion it's been very fun last year or two and very productive because we've been taking off a lot of my dream projects if you like of things that i've collected over the years of areas of science that i would like to i think could be very transformative if we helped accelerate and uh really interesting problems scientific challenges in of themselves this is energy so energy yes exactly so\\n      Question: is the topic of nuclear fusion discussed in this video? if yes then what was discussed\\n    \")"
      ]
     },
     "execution_count": 19,
     "metadata": {},
     "output_type": "execute_result"
    }
   ],
   "source": [
    "final_prompt"
   ]
  },
  {
   "cell_type": "markdown",
   "metadata": {
    "id": "MxxcV2C_DXqt"
   },
   "source": [
    "## Step 4 - Generation"
   ]
  },
  {
   "cell_type": "code",
   "execution_count": 21,
   "metadata": {
    "colab": {
     "base_uri": "https://localhost:8080/"
    },
    "id": "HX6vxSoUHBok",
    "outputId": "eade1e56-b8af-4b7e-c34b-08a4a1b0da00"
   },
   "outputs": [
    {
     "name": "stdout",
     "output_type": "stream",
     "text": [
      " Yes, the topic of nuclear fusion is discussed in this video. The speaker mentions collaborating with EPFL in Switzerland and using their test reactor to explore fusion as an area where AI can help accelerate progress. They describe how they looked for bottleneck problems amenable to AI methods and focused on holding plasma in specific shapes for record amounts of time. This was achieved through a controller that can contain and hold plasma in various shapes, which was a significant problem solved in the fusion area. The team is currently exploring the next problem they can tackle with fusion startups. They also have a paper on magnetic control of tokamak plasmas using deep reinforcement learning to solve nuclear fusion.\n"
     ]
    }
   ],
   "source": [
    "answer = llm.invoke(final_prompt)\n",
    "print(answer.content)"
   ]
  },
  {
   "cell_type": "markdown",
   "metadata": {
    "id": "wH2Ph0NcDlo5"
   },
   "source": [
    "## Building a Chain"
   ]
  },
  {
   "cell_type": "code",
   "execution_count": 22,
   "metadata": {
    "id": "RdTwSS3nHKRz"
   },
   "outputs": [],
   "source": [
    "from langchain_core.runnables import RunnableParallel, RunnablePassthrough, RunnableLambda\n",
    "from langchain_core.output_parsers import StrOutputParser"
   ]
  },
  {
   "cell_type": "code",
   "execution_count": 23,
   "metadata": {
    "id": "VGezE1qYQJ76"
   },
   "outputs": [],
   "source": [
    "def format_docs(retrieved_docs):\n",
    "  context_text = \"\\n\\n\".join(doc.page_content for doc in retrieved_docs)\n",
    "  return context_text"
   ]
  },
  {
   "cell_type": "code",
   "execution_count": 24,
   "metadata": {
    "id": "fmYnYqbWQWLi"
   },
   "outputs": [],
   "source": [
    "parallel_chain = RunnableParallel({\n",
    "    'context': retriever | RunnableLambda(format_docs),\n",
    "    'question': RunnablePassthrough()\n",
    "})"
   ]
  },
  {
   "cell_type": "code",
   "execution_count": 25,
   "metadata": {
    "colab": {
     "base_uri": "https://localhost:8080/"
    },
    "id": "lGI1hEvfQvLb",
    "outputId": "093b395c-69da-44d8-dbef-b313f3752687"
   },
   "outputs": [
    {
     "data": {
      "text/plain": [
       "{'context': \"to get world peace because there's also other corrupting things like wanting power over people and this kind of stuff which is not necessarily satisfied by by just abundance but i think it will help um and i think uh but i think ultimately ai is not going to be run by any one person or one organization i think it should belong to the world belong to humanity um and i think maybe many there'll be many ways this will happen and ultimately um everybody should have a say in that do you have advice for uh young people in high school and college maybe um if they're interested in ai or interested in having a big impact on the world what they should do to have a career they can be proud of her to have a life they can be proud of i love giving talks to the next generation what i say to them is actually two things i i think the most important things to learn about and to find out about when you're when you're young is what are your true passions is first of all there's two things one is find\\n\\nthe following is a conversation with demus hasabis ceo and co-founder of deepmind a company that has published and builds some of the most incredible artificial intelligence systems in the history of computing including alfred zero that learned all by itself to play the game of gold better than any human in the world and alpha fold two that solved protein folding both tasks considered nearly impossible for a very long time demus is widely considered to be one of the most brilliant and impactful humans in the history of artificial intelligence and science and engineering in general this was truly an honor and a pleasure for me to finally sit down with him for this conversation and i'm sure we will talk many times again in the future this is the lex friedman podcast to support it please check out our sponsors in the description and now dear friends here's demis hassabis let's start with a bit of a personal question am i an ai program you wrote to interview people until i get good enough\\n\\nof deep mind just as a human being let me ask you about this one particular anecdotal evidence of the google engineer who made a comment or believed that there's some aspect of a language model the lambda language model that exhibited sentience so you said you believe there might be a responsibility to build systems that are not essential and this experience of a particular engineer i think i'd love to get your general opinion on this kind of thing but i think it will happen more and more and more which uh not when engineers but when people out there that don't have an engineering background start interacting with increasingly intelligent systems we anthropomorphize them they they start to have deep impactful um interactions with us in a way that we miss them yeah when they're gone and we sure feel like they're living entities self-aware entities and maybe even we project sentience onto them so what what's your thought about this particular uh system was is uh have you ever met a\\n\\nthat are amazingly smart at certain things like maybe playing go and chess and other things but they don't feel at all in any shape or form conscious in the way that you know you do to me or i do to you and um and i think actually building ai is uh these intelligent constructs uh is one of the best ways to explore the mystery of consciousness to break it down because um we're going to have devices that are pretty smart at certain things or capable of certain things but potentially won't have any semblance of self-awareness or other things and in fact i would advocate if there's a choice building systems in the first place ai systems that are not conscious to begin with uh are just tools um until we understand them better and the capabilities better so on that topic just not as the ceo of deep mind just as a human being let me ask you about this one particular anecdotal evidence of the google engineer who made a comment or believed that there's some aspect of a language model the\",\n",
       " 'question': 'who is Demis'}"
      ]
     },
     "execution_count": 25,
     "metadata": {},
     "output_type": "execute_result"
    }
   ],
   "source": [
    "parallel_chain.invoke('who is Demis')"
   ]
  },
  {
   "cell_type": "code",
   "execution_count": 26,
   "metadata": {
    "id": "e6osgdBfRCPN"
   },
   "outputs": [],
   "source": [
    "parser = StrOutputParser()"
   ]
  },
  {
   "cell_type": "code",
   "execution_count": 27,
   "metadata": {
    "id": "Y3e2en89QyOC"
   },
   "outputs": [],
   "source": [
    "main_chain = parallel_chain | prompt | llm | parser"
   ]
  },
  {
   "cell_type": "code",
   "execution_count": 28,
   "metadata": {
    "colab": {
     "base_uri": "https://localhost:8080/",
     "height": 122
    },
    "id": "Ur7Ph_xlRE-7",
    "outputId": "92122b01-36e9-4de4-85cb-6eb1e893a33d"
   },
   "outputs": [
    {
     "data": {
      "text/plain": [
       "\" The speaker discusses the possibility of a more fundamental and simpler explanation of physics beyond the standard model. They mention that such an explanation could shed light on mysteries like consciousness, life, and gravity. The speaker also highlights the importance of clear and simple explanations as a sign of understanding complex topics. They reflect on the history of computers and AI in relation to chess, mentioning Claude Shannon's first chess program and IBM's Deep Blue. The speaker expresses admiration for human intelligence, suggesting that they were more impressed by Garry Kasparov's mind during Deep Blue's victory than the machine itself.\""
      ]
     },
     "execution_count": 28,
     "metadata": {},
     "output_type": "execute_result"
    }
   ],
   "source": [
    "main_chain.invoke('Can you summarize the video')"
   ]
  }
 ],
 "metadata": {
  "colab": {
   "provenance": []
  },
  "kernelspec": {
   "display_name": "Python 3",
   "language": "python",
   "name": "python3"
  },
  "language_info": {
   "codemirror_mode": {
    "name": "ipython",
    "version": 3
   },
   "file_extension": ".py",
   "mimetype": "text/x-python",
   "name": "python",
   "nbconvert_exporter": "python",
   "pygments_lexer": "ipython3",
   "version": "3.11.9"
  }
 },
 "nbformat": 4,
 "nbformat_minor": 4
}
